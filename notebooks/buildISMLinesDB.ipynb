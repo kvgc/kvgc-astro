{
 "cells": [
  {
   "cell_type": "code",
   "execution_count": 27,
   "id": "d906bc5b-8d89-412e-8723-d9bd432a1e3f",
   "metadata": {},
   "outputs": [],
   "source": [
    "import numpy as np\n",
    "from ISMgas.SupportingFunctions import load_pickle\n",
    "from ISMgas.globalVars import c_kms\n",
    "from astropy.table import Table\n",
    "import os"
   ]
  },
  {
   "cell_type": "code",
   "execution_count": 16,
   "id": "6fa0ffbf-f913-42fa-9abd-00e3d9f222aa",
   "metadata": {},
   "outputs": [],
   "source": [
    "lensIDS  = ['CSWA38', 'CSWA103', 'CSWA128', 'CSWA164', 'CSWA19', 'CSWA2', 'CSWA40', '8oclock', 'clone', 'AGEL183520', 'AGEL014106', 'AGEL231935', 'RCSGA0327-G', 'J1527', 'J1458', 'J1429', 'J0108', 'J0004', 'cosmiceye', 'horseshoe']"
   ]
  },
  {
   "cell_type": "markdown",
   "id": "997c505b-a9ed-42e8-a6bb-7e1d774b16fd",
   "metadata": {},
   "source": [
    "## Build database from stored fits"
   ]
  },
  {
   "cell_type": "code",
   "execution_count": 17,
   "id": "01adc564-f733-4ae7-9152-b8c09ed378fa",
   "metadata": {},
   "outputs": [],
   "source": [
    "db = {} ## database\n",
    "def getQuantity(qty, db=db, fit='DG'):\n",
    "    return(np.array([getNestedArrayValue(db, [i,fit,qty]) for i in lensIDS]))\n",
    "\n",
    "def getQuantityNew(qty,  db=db):\n",
    "    return(np.array([getNestedArrayValue(db, [i] + qty) for i in lensIDS]))\n",
    "\n",
    "def getProp(qty):\n",
    "    return(np.array([getNestedArrayValue(db, [i,'prop',qty]) for i in lensIDS]))\n",
    "\n",
    "for idx in lensIDS:\n",
    "    db[idx] =  load_pickle(\"../data/2022_ISMkinematics/%s/%s-smoothedSpectra.pkls\"%(idx,idx))\n",
    " \n",
    "    db[idx]['prop'] = dbLenses[idx]\n",
    "    db[idx]['raw']  = load_pickle(\"../data/2022_ISMkinematics/%s/%s-combined.pkls\"%(idx,idx))\n",
    "    db[idx]['DG']   = load_pickle(\"../data/2022_ISMkinematics/%s/%s-DG-Results.pkl\"%(idx,idx))\n",
    "    db[idx]['SG']   = load_pickle(\"../data/2022_ISMkinematics/%s/%s-SG-Results.pkl\"%(idx,idx))    \n",
    "         \n",
    "    foo_dummywav = np.arange(-1300,1300,1)\n",
    "    foo_dummyflux_cf = np.array([\n",
    "        db[idx]['DG']['A_out']*np.exp(-0.5*(db[idx]['DG']['v_out'] -i)**2/db[idx]['DG']['sig_out']**2) +\n",
    "        db[idx]['DG']['A1_out']*np.exp(-0.5*(db[idx]['DG']['v1_out'] -i)**2/db[idx]['DG']['sig1_out']**2) \n",
    "        for i in foo_dummywav\n",
    "    ])\n",
    "    \n",
    "    db[idx]['DG']['fitted_wav']  = foo_dummywav\n",
    "    db[idx]['DG']['fitted_flux']  = foo_dummyflux_cf\n",
    "    \n",
    "    db[idx]['DG']['cf_max'] = np.max(foo_dummyflux_cf)\n",
    "    db[idx]['DG']['area']   = np.sum(foo_dummyflux_cf)\n",
    "    \n",
    "    ## EW (in A) -- see notes above\n",
    "    db[idx]['DG']['EW']     = np.sum(foo_dummyflux_cf)*(1*2796)/c_kms \n",
    "    \n",
    "    ## Skewness \n",
    "    db[idx]['DG']['|v50-v95|']    = np.abs(db[idx]['DG']['v50'] - db[idx]['DG']['v05'])\n",
    "    db[idx]['DG']['|v50-v05|']    = np.abs(db[idx]['DG']['v50'] - db[idx]['DG']['v95'])\n",
    "    db[idx]['DG']['skewness']     = db[idx]['DG']['|v50-v95|']/db[idx]['DG']['|v50-v05|']  - 1 \n",
    "\n",
    "    \n",
    "    db[idx]['SG']['|v50-v95|']    = np.abs(db[idx]['SG']['v50'] - db[idx]['SG']['v05'])\n",
    "    db[idx]['SG']['|v50-v05|']    = np.abs(db[idx]['SG']['v50'] - db[idx]['SG']['v95'])\n",
    "    db[idx]['SG']['skewness']     = db[idx]['SG']['|v50-v95|']/db[idx]['SG']['|v50-v05|']  - 1   \n",
    "    \n",
    "    ### Storing the first and second fit component separately ###\n",
    "    \n",
    "    foo_dummywav = np.arange(-1300,1300,1)\n",
    "    foo_dummyflux_cf = np.array([\n",
    "        db[idx]['DG']['A_out']*np.exp(-0.5*(db[idx]['DG']['v_out'] -i)**2/db[idx]['DG']['sig_out']**2)  for i in foo_dummywav\n",
    "    ])\n",
    "    db[idx]['DG']['fitted_wav_comp1']  = foo_dummywav\n",
    "    db[idx]['DG']['fitted_flux_comp1']  = foo_dummyflux_cf    \n",
    "    \n",
    "    \n",
    "    foo_dummywav = np.arange(-1300,1300,1)\n",
    "    foo_dummyflux_cf = np.array([\n",
    "        db[idx]['DG']['A1_out']*np.exp(-0.5*(db[idx]['DG']['v1_out'] -i)**2/db[idx]['DG']['sig1_out']**2) \n",
    "        for i in foo_dummywav\n",
    "    ])\n",
    "    db[idx]['DG']['fitted_wav_comp2']  = foo_dummywav\n",
    "    db[idx]['DG']['fitted_flux_comp2']  = foo_dummyflux_cf    \n",
    "\n"
   ]
  },
  {
   "cell_type": "markdown",
   "id": "72339ebb-fa43-409e-a354-baa4bcbb7b9c",
   "metadata": {},
   "source": [
    "## Store all spectra in files"
   ]
  },
  {
   "cell_type": "code",
   "execution_count": 29,
   "id": "e72aad0a-5359-4c2f-b94f-21f12c22b026",
   "metadata": {},
   "outputs": [],
   "source": [
    "saveDir = \"../data/2022_ISMkinematics_csv\"\n",
    "for idx in lensIDS:\n",
    "    raw = db[idx]['raw']\n",
    "    linenames = raw['line_name']\n",
    "    for count,linename in enumerate(linenames):\n",
    "        spec = raw['spectra_interp'][count]\n",
    "        wav = raw['wav'][count]\n",
    "        sigma = raw['sigma'][count]\n",
    "        \n",
    "        t = Table(\n",
    "            data = [\n",
    "                wav, spec, sigma\n",
    "            ],\n",
    "            names = ['Velocity(km/s)','Flux(Normalized)','Error(1sigma)']\n",
    "        )\n",
    "        try:\n",
    "            t.write(f\"{saveDir}/{linename}/{idx}.csv\")\n",
    "        except FileNotFoundError:\n",
    "            os.mkdir(f\"{saveDir}/{linename}\")\n",
    "            t.write(f\"{saveDir}/{linename}/{idx}.csv\")\n",
    "\n",
    "        \n",
    "    "
   ]
  },
  {
   "cell_type": "code",
   "execution_count": null,
   "id": "8c55fc8c-686b-48ec-bb8c-6afedf6c100e",
   "metadata": {},
   "outputs": [],
   "source": []
  }
 ],
 "metadata": {
  "kernelspec": {
   "display_name": "Python 3 (ipykernel)",
   "language": "python",
   "name": "python3"
  },
  "language_info": {
   "codemirror_mode": {
    "name": "ipython",
    "version": 3
   },
   "file_extension": ".py",
   "mimetype": "text/x-python",
   "name": "python",
   "nbconvert_exporter": "python",
   "pygments_lexer": "ipython3",
   "version": "3.8.15"
  }
 },
 "nbformat": 4,
 "nbformat_minor": 5
}
