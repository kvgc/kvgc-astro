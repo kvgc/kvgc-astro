{
 "cells": [
  {
   "cell_type": "code",
   "execution_count": 27,
   "id": "d906bc5b-8d89-412e-8723-d9bd432a1e3f",
   "metadata": {},
   "outputs": [],
   "source": [
    "import numpy as np\n",
    "from ISMgas.SupportingFunctions import load_pickle\n",
    "from ISMgas.globalVars import c_kms\n",
    "from astropy.table import Table\n",
    "import os"
   ]
  },
  {
   "cell_type": "code",
   "execution_count": 16,
   "id": "6fa0ffbf-f913-42fa-9abd-00e3d9f222aa",
   "metadata": {},
   "outputs": [],
   "source": [
    "lensIDS  = ['CSWA38', 'CSWA103', 'CSWA128', 'CSWA164', 'CSWA19', 'CSWA2', 'CSWA40', '8oclock', 'clone', 'AGEL183520', 'AGEL014106', 'AGEL231935', 'RCSGA0327-G', 'J1527', 'J1458', 'J1429', 'J0108', 'J0004', 'cosmiceye', 'horseshoe']"
   ]
  },
  {
   "cell_type": "markdown",
   "id": "997c505b-a9ed-42e8-a6bb-7e1d774b16fd",
   "metadata": {},
   "source": [
    "## Build database from stored fits"
   ]
  },
  {
   "cell_type": "code",
   "execution_count": 17,
   "id": "01adc564-f733-4ae7-9152-b8c09ed378fa",
   "metadata": {},
   "outputs": [],
   "source": [
    "db = {} ## database\n",
    "def getQuantity(qty, db=db, fit='DG'):\n",
    "    return(np.array([getNestedArrayValue(db, [i,fit,qty]) for i in lensIDS]))\n",
    "\n",
    "def getQuantityNew(qty,  db=db):\n",
    "    return(np.array([getNestedArrayValue(db, [i] + qty) for i in lensIDS]))\n",
    "\n",
    "def getProp(qty):\n",
    "    return(np.array([getNestedArrayValue(db, [i,'prop',qty]) for i in lensIDS]))\n",
    "\n",
    "for idx in lensIDS:\n",
    "    db[idx] =  load_pickle(\"../data/2022_ISMkinematics/%s/%s-smoothedSpectra.pkls\"%(idx,idx))\n",
    " \n",
    "    db[idx]['prop'] = dbLenses[idx]\n",
    "    db[idx]['raw']  = load_pickle(\"../data/2022_ISMkinematics/%s/%s-combined.pkls\"%(idx,idx))\n",
    "    db[idx]['DG']   = load_pickle(\"../data/2022_ISMkinematics/%s/%s-DG-Results.pkl\"%(idx,idx))\n",
    "    db[idx]['SG']   = load_pickle(\"../data/2022_ISMkinematics/%s/%s-SG-Results.pkl\"%(idx,idx))    \n",
    "         \n",
    "    foo_dummywav = np.arange(-1300,1300,1)\n",
    "    foo_dummyflux_cf = np.array([\n",
    "        db[idx]['DG']['A_out']*np.exp(-0.5*(db[idx]['DG']['v_out'] -i)**2/db[idx]['DG']['sig_out']**2) +\n",
    "        db[idx]['DG']['A1_out']*np.exp(-0.5*(db[idx]['DG']['v1_out'] -i)**2/db[idx]['DG']['sig1_out']**2) \n",
    "        for i in foo_dummywav\n",
    "    ])\n",
    "    \n",
    "    db[idx]['DG']['fitted_wav']  = foo_dummywav\n",
    "    db[idx]['DG']['fitted_flux']  = foo_dummyflux_cf\n",
    "    \n",
    "    db[idx]['DG']['cf_max'] = np.max(foo_dummyflux_cf)\n",
    "    db[idx]['DG']['area']   = np.sum(foo_dummyflux_cf)\n",
    "    \n",
    "    ## EW (in A) -- see notes above\n",
    "    db[idx]['DG']['EW']     = np.sum(foo_dummyflux_cf)*(1*2796)/c_kms \n",
    "    \n",
    "    ## Skewness \n",
    "    db[idx]['DG']['|v50-v95|']    = np.abs(db[idx]['DG']['v50'] - db[idx]['DG']['v05'])\n",
    "    db[idx]['DG']['|v50-v05|']    = np.abs(db[idx]['DG']['v50'] - db[idx]['DG']['v95'])\n",
    "    db[idx]['DG']['skewness']     = db[idx]['DG']['|v50-v95|']/db[idx]['DG']['|v50-v05|']  - 1 \n",
    "\n",
    "    \n",
    "    db[idx]['SG']['|v50-v95|']    = np.abs(db[idx]['SG']['v50'] - db[idx]['SG']['v05'])\n",
    "    db[idx]['SG']['|v50-v05|']    = np.abs(db[idx]['SG']['v50'] - db[idx]['SG']['v95'])\n",
    "    db[idx]['SG']['skewness']     = db[idx]['SG']['|v50-v95|']/db[idx]['SG']['|v50-v05|']  - 1   \n",
    "    \n",
    "    ### Storing the first and second fit component separately ###\n",
    "    \n",
    "    foo_dummywav = np.arange(-1300,1300,1)\n",
    "    foo_dummyflux_cf = np.array([\n",
    "        db[idx]['DG']['A_out']*np.exp(-0.5*(db[idx]['DG']['v_out'] -i)**2/db[idx]['DG']['sig_out']**2)  for i in foo_dummywav\n",
    "    ])\n",
    "    db[idx]['DG']['fitted_wav_comp1']  = foo_dummywav\n",
    "    db[idx]['DG']['fitted_flux_comp1']  = foo_dummyflux_cf    \n",
    "    \n",
    "    \n",
    "    foo_dummywav = np.arange(-1300,1300,1)\n",
    "    foo_dummyflux_cf = np.array([\n",
    "        db[idx]['DG']['A1_out']*np.exp(-0.5*(db[idx]['DG']['v1_out'] -i)**2/db[idx]['DG']['sig1_out']**2) \n",
    "        for i in foo_dummywav\n",
    "    ])\n",
    "    db[idx]['DG']['fitted_wav_comp2']  = foo_dummywav\n",
    "    db[idx]['DG']['fitted_flux_comp2']  = foo_dummyflux_cf    \n",
    "\n"
   ]
  },
  {
   "cell_type": "markdown",
   "id": "72339ebb-fa43-409e-a354-baa4bcbb7b9c",
   "metadata": {},
   "source": [
    "## Store all spectra in files"
   ]
  },
  {
   "cell_type": "code",
   "execution_count": 26,
   "id": "e72aad0a-5359-4c2f-b94f-21f12c22b026",
   "metadata": {},
   "outputs": [
    {
     "ename": "FileNotFoundError",
     "evalue": "[Errno 2] No such file or directory: '../data/2022_ISMkinematics_csv/Si II 1260/CSWA38_Si II 1260.csv'",
     "output_type": "error",
     "traceback": [
      "\u001b[0;31m---------------------------------------------------------------------------\u001b[0m",
      "\u001b[0;31mFileNotFoundError\u001b[0m                         Traceback (most recent call last)",
      "Cell \u001b[0;32mIn[26], line 16\u001b[0m\n\u001b[1;32m      8\u001b[0m sigma \u001b[38;5;241m=\u001b[39m raw[\u001b[38;5;124m'\u001b[39m\u001b[38;5;124msigma\u001b[39m\u001b[38;5;124m'\u001b[39m][count]\n\u001b[1;32m     10\u001b[0m t \u001b[38;5;241m=\u001b[39m Table(\n\u001b[1;32m     11\u001b[0m     data \u001b[38;5;241m=\u001b[39m [\n\u001b[1;32m     12\u001b[0m         wav, spec, sigma\n\u001b[1;32m     13\u001b[0m     ],\n\u001b[1;32m     14\u001b[0m     names \u001b[38;5;241m=\u001b[39m [\u001b[38;5;124m'\u001b[39m\u001b[38;5;124mVelocity(km/s)\u001b[39m\u001b[38;5;124m'\u001b[39m,\u001b[38;5;124m'\u001b[39m\u001b[38;5;124mFlux(Normalized)\u001b[39m\u001b[38;5;124m'\u001b[39m,\u001b[38;5;124m'\u001b[39m\u001b[38;5;124mError(1sigma)\u001b[39m\u001b[38;5;124m'\u001b[39m]\n\u001b[1;32m     15\u001b[0m )\n\u001b[0;32m---> 16\u001b[0m \u001b[43mt\u001b[49m\u001b[38;5;241;43m.\u001b[39;49m\u001b[43mwrite\u001b[49m\u001b[43m(\u001b[49m\u001b[38;5;124;43mf\u001b[39;49m\u001b[38;5;124;43m\"\u001b[39;49m\u001b[38;5;132;43;01m{\u001b[39;49;00m\u001b[43msaveDir\u001b[49m\u001b[38;5;132;43;01m}\u001b[39;49;00m\u001b[38;5;124;43m/\u001b[39;49m\u001b[38;5;132;43;01m{\u001b[39;49;00m\u001b[43mlinename\u001b[49m\u001b[38;5;132;43;01m}\u001b[39;49;00m\u001b[38;5;124;43m/\u001b[39;49m\u001b[38;5;132;43;01m{\u001b[39;49;00m\u001b[43midx\u001b[49m\u001b[38;5;132;43;01m}\u001b[39;49;00m\u001b[38;5;124;43m_\u001b[39;49m\u001b[38;5;132;43;01m{\u001b[39;49;00m\u001b[43mlinename\u001b[49m\u001b[38;5;132;43;01m}\u001b[39;49;00m\u001b[38;5;124;43m.csv\u001b[39;49m\u001b[38;5;124;43m\"\u001b[39;49m\u001b[43m)\u001b[49m\n",
      "File \u001b[0;32m~/anaconda3/lib/python3.8/site-packages/astropy/table/connect.py:130\u001b[0m, in \u001b[0;36mTableWrite.__call__\u001b[0;34m(self, serialize_method, *args, **kwargs)\u001b[0m\n\u001b[1;32m    128\u001b[0m instance \u001b[38;5;241m=\u001b[39m \u001b[38;5;28mself\u001b[39m\u001b[38;5;241m.\u001b[39m_instance\n\u001b[1;32m    129\u001b[0m \u001b[38;5;28;01mwith\u001b[39;00m serialize_method_as(instance, serialize_method):\n\u001b[0;32m--> 130\u001b[0m     \u001b[38;5;28;43mself\u001b[39;49m\u001b[38;5;241;43m.\u001b[39;49m\u001b[43mregistry\u001b[49m\u001b[38;5;241;43m.\u001b[39;49m\u001b[43mwrite\u001b[49m\u001b[43m(\u001b[49m\u001b[43minstance\u001b[49m\u001b[43m,\u001b[49m\u001b[43m \u001b[49m\u001b[38;5;241;43m*\u001b[39;49m\u001b[43margs\u001b[49m\u001b[43m,\u001b[49m\u001b[43m \u001b[49m\u001b[38;5;241;43m*\u001b[39;49m\u001b[38;5;241;43m*\u001b[39;49m\u001b[43mkwargs\u001b[49m\u001b[43m)\u001b[49m\n",
      "File \u001b[0;32m~/anaconda3/lib/python3.8/site-packages/astropy/io/registry/core.py:385\u001b[0m, in \u001b[0;36mUnifiedOutputRegistry.write\u001b[0;34m(self, data, format, *args, **kwargs)\u001b[0m\n\u001b[1;32m    380\u001b[0m     \u001b[38;5;28mformat\u001b[39m \u001b[38;5;241m=\u001b[39m \u001b[38;5;28mself\u001b[39m\u001b[38;5;241m.\u001b[39m_get_valid_format(\n\u001b[1;32m    381\u001b[0m         \u001b[38;5;124m\"\u001b[39m\u001b[38;5;124mwrite\u001b[39m\u001b[38;5;124m\"\u001b[39m, data\u001b[38;5;241m.\u001b[39m\u001b[38;5;18m__class__\u001b[39m, path, fileobj, args, kwargs\n\u001b[1;32m    382\u001b[0m     )\n\u001b[1;32m    384\u001b[0m writer \u001b[38;5;241m=\u001b[39m \u001b[38;5;28mself\u001b[39m\u001b[38;5;241m.\u001b[39mget_writer(\u001b[38;5;28mformat\u001b[39m, data\u001b[38;5;241m.\u001b[39m\u001b[38;5;18m__class__\u001b[39m)\n\u001b[0;32m--> 385\u001b[0m \u001b[38;5;28;01mreturn\u001b[39;00m \u001b[43mwriter\u001b[49m\u001b[43m(\u001b[49m\u001b[43mdata\u001b[49m\u001b[43m,\u001b[49m\u001b[43m \u001b[49m\u001b[38;5;241;43m*\u001b[39;49m\u001b[43margs\u001b[49m\u001b[43m,\u001b[49m\u001b[43m \u001b[49m\u001b[38;5;241;43m*\u001b[39;49m\u001b[38;5;241;43m*\u001b[39;49m\u001b[43mkwargs\u001b[49m\u001b[43m)\u001b[49m\n",
      "File \u001b[0;32m~/anaconda3/lib/python3.8/site-packages/astropy/io/ascii/connect.py:28\u001b[0m, in \u001b[0;36mio_write\u001b[0;34m(format, table, filename, **kwargs)\u001b[0m\n\u001b[1;32m     26\u001b[0m     \u001b[38;5;28mformat\u001b[39m \u001b[38;5;241m=\u001b[39m re\u001b[38;5;241m.\u001b[39msub(\u001b[38;5;124mr\u001b[39m\u001b[38;5;124m\"\u001b[39m\u001b[38;5;124m^ascii\u001b[39m\u001b[38;5;124m\\\u001b[39m\u001b[38;5;124m.\u001b[39m\u001b[38;5;124m\"\u001b[39m, \u001b[38;5;124m\"\u001b[39m\u001b[38;5;124m\"\u001b[39m, \u001b[38;5;28mformat\u001b[39m)\n\u001b[1;32m     27\u001b[0m     kwargs[\u001b[38;5;124m\"\u001b[39m\u001b[38;5;124mformat\u001b[39m\u001b[38;5;124m\"\u001b[39m] \u001b[38;5;241m=\u001b[39m \u001b[38;5;28mformat\u001b[39m\n\u001b[0;32m---> 28\u001b[0m \u001b[38;5;28;01mreturn\u001b[39;00m \u001b[43mwrite\u001b[49m\u001b[43m(\u001b[49m\u001b[43mtable\u001b[49m\u001b[43m,\u001b[49m\u001b[43m \u001b[49m\u001b[43mfilename\u001b[49m\u001b[43m,\u001b[49m\u001b[43m \u001b[49m\u001b[38;5;241;43m*\u001b[39;49m\u001b[38;5;241;43m*\u001b[39;49m\u001b[43mkwargs\u001b[49m\u001b[43m)\u001b[49m\n",
      "File \u001b[0;32m~/anaconda3/lib/python3.8/site-packages/astropy/io/ascii/ui.py:977\u001b[0m, in \u001b[0;36mwrite\u001b[0;34m(table, output, format, Writer, fast_writer, overwrite, **kwargs)\u001b[0m\n\u001b[1;32m    975\u001b[0m writer \u001b[38;5;241m=\u001b[39m get_writer(Writer\u001b[38;5;241m=\u001b[39mWriter, fast_writer\u001b[38;5;241m=\u001b[39mfast_writer, \u001b[38;5;241m*\u001b[39m\u001b[38;5;241m*\u001b[39mkwargs)\n\u001b[1;32m    976\u001b[0m \u001b[38;5;28;01mif\u001b[39;00m writer\u001b[38;5;241m.\u001b[39m_format_name \u001b[38;5;129;01min\u001b[39;00m core\u001b[38;5;241m.\u001b[39mFAST_CLASSES:\n\u001b[0;32m--> 977\u001b[0m     \u001b[43mwriter\u001b[49m\u001b[38;5;241;43m.\u001b[39;49m\u001b[43mwrite\u001b[49m\u001b[43m(\u001b[49m\u001b[43mtable\u001b[49m\u001b[43m,\u001b[49m\u001b[43m \u001b[49m\u001b[43moutput\u001b[49m\u001b[43m)\u001b[49m\n\u001b[1;32m    978\u001b[0m     \u001b[38;5;28;01mreturn\u001b[39;00m\n\u001b[1;32m    980\u001b[0m lines \u001b[38;5;241m=\u001b[39m writer\u001b[38;5;241m.\u001b[39mwrite(table)\n",
      "File \u001b[0;32m~/anaconda3/lib/python3.8/site-packages/astropy/io/ascii/fastbasic.py:238\u001b[0m, in \u001b[0;36mFastCsv.write\u001b[0;34m(self, table, output)\u001b[0m\n\u001b[1;32m    233\u001b[0m \u001b[38;5;28;01mdef\u001b[39;00m \u001b[38;5;21mwrite\u001b[39m(\u001b[38;5;28mself\u001b[39m, table, output):\n\u001b[1;32m    234\u001b[0m \u001b[38;5;250m    \u001b[39m\u001b[38;5;124;03m\"\"\"\u001b[39;00m\n\u001b[1;32m    235\u001b[0m \u001b[38;5;124;03m    Override the default write method of `FastBasic` to\u001b[39;00m\n\u001b[1;32m    236\u001b[0m \u001b[38;5;124;03m    output masked values as empty fields.\u001b[39;00m\n\u001b[1;32m    237\u001b[0m \u001b[38;5;124;03m    \"\"\"\u001b[39;00m\n\u001b[0;32m--> 238\u001b[0m     \u001b[38;5;28;43mself\u001b[39;49m\u001b[38;5;241;43m.\u001b[39;49m\u001b[43m_write\u001b[49m\u001b[43m(\u001b[49m\u001b[43mtable\u001b[49m\u001b[43m,\u001b[49m\u001b[43m \u001b[49m\u001b[43moutput\u001b[49m\u001b[43m,\u001b[49m\u001b[43m \u001b[49m\u001b[43m{\u001b[49m\u001b[38;5;124;43m\"\u001b[39;49m\u001b[38;5;124;43mfill_values\u001b[39;49m\u001b[38;5;124;43m\"\u001b[39;49m\u001b[43m:\u001b[49m\u001b[43m \u001b[49m\u001b[43m[\u001b[49m\u001b[43m(\u001b[49m\u001b[43mcore\u001b[49m\u001b[38;5;241;43m.\u001b[39;49m\u001b[43mmasked\u001b[49m\u001b[43m,\u001b[49m\u001b[43m \u001b[49m\u001b[38;5;124;43m\"\u001b[39;49m\u001b[38;5;124;43m\"\u001b[39;49m\u001b[43m)\u001b[49m\u001b[43m]\u001b[49m\u001b[43m}\u001b[49m\u001b[43m)\u001b[49m\n",
      "File \u001b[0;32m~/anaconda3/lib/python3.8/site-packages/astropy/io/ascii/fastbasic.py:214\u001b[0m, in \u001b[0;36mFastBasic._write\u001b[0;34m(self, table, output, default_kwargs, header_output, output_types)\u001b[0m\n\u001b[1;32m    212\u001b[0m write_kwargs\u001b[38;5;241m.\u001b[39mupdate(\u001b[38;5;28mself\u001b[39m\u001b[38;5;241m.\u001b[39mkwargs)\n\u001b[1;32m    213\u001b[0m writer \u001b[38;5;241m=\u001b[39m cparser\u001b[38;5;241m.\u001b[39mFastWriter(table, \u001b[38;5;241m*\u001b[39m\u001b[38;5;241m*\u001b[39mwrite_kwargs)\n\u001b[0;32m--> 214\u001b[0m \u001b[43mwriter\u001b[49m\u001b[38;5;241;43m.\u001b[39;49m\u001b[43mwrite\u001b[49m\u001b[43m(\u001b[49m\u001b[43moutput\u001b[49m\u001b[43m,\u001b[49m\u001b[43m \u001b[49m\u001b[43mheader_output\u001b[49m\u001b[43m,\u001b[49m\u001b[43m \u001b[49m\u001b[43moutput_types\u001b[49m\u001b[43m)\u001b[49m\n",
      "File \u001b[0;32mastropy/io/ascii/cparser.pyx:1087\u001b[0m, in \u001b[0;36mastropy.io.ascii.cparser.FastWriter.write\u001b[0;34m()\u001b[0m\n",
      "\u001b[0;31mFileNotFoundError\u001b[0m: [Errno 2] No such file or directory: '../data/2022_ISMkinematics_csv/Si II 1260/CSWA38_Si II 1260.csv'"
     ]
    }
   ],
   "source": [
    "saveDir = \"../data/2022_ISMkinematics_csv\"\n",
    "for idx in lensIDS:\n",
    "    raw = db[idx]['raw']\n",
    "    linenames = raw['line_name']\n",
    "    for count,linename in enumerate(linenames):\n",
    "        spec = raw['spectra_interp'][count]\n",
    "        wav = raw['wav'][count]\n",
    "        sigma = raw['sigma'][count]\n",
    "        \n",
    "        t = Table(\n",
    "            data = [\n",
    "                wav, spec, sigma\n",
    "            ],\n",
    "            names = ['Velocity(km/s)','Flux(Normalized)','Error(1sigma)']\n",
    "        )\n",
    "        try:\n",
    "            t.write(f\"{saveDir}/{linename}/{idx}_{linename}.csv\")\n",
    "        except FileNotFoundError:\n",
    "            os.mkdir(f\"{saveDir}/{linename}\")\n",
    "            t.write(f\"{saveDir}/{linename}/{idx}_{linename}.csv\")\n",
    "\n",
    "        \n",
    "    "
   ]
  },
  {
   "cell_type": "code",
   "execution_count": null,
   "id": "8c55fc8c-686b-48ec-bb8c-6afedf6c100e",
   "metadata": {},
   "outputs": [],
   "source": []
  }
 ],
 "metadata": {
  "kernelspec": {
   "display_name": "Python 3 (ipykernel)",
   "language": "python",
   "name": "python3"
  },
  "language_info": {
   "codemirror_mode": {
    "name": "ipython",
    "version": 3
   },
   "file_extension": ".py",
   "mimetype": "text/x-python",
   "name": "python",
   "nbconvert_exporter": "python",
   "pygments_lexer": "ipython3",
   "version": "3.8.15"
  }
 },
 "nbformat": 4,
 "nbformat_minor": 5
}
